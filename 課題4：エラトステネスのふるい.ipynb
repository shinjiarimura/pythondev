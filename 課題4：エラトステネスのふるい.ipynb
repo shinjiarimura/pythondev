{
 "cells": [
  {
   "cell_type": "code",
   "execution_count": 11,
   "id": "5024326b",
   "metadata": {},
   "outputs": [
    {
     "name": "stdout",
     "output_type": "stream",
     "text": [
      "2\n",
      "3\n",
      "5\n",
      "7\n",
      "11\n",
      "13\n",
      "17\n",
      "19\n",
      "23\n",
      "29\n",
      "31\n",
      "37\n",
      "41\n",
      "43\n",
      "47\n",
      "53\n",
      "59\n",
      "61\n",
      "67\n",
      "71\n",
      "73\n",
      "79\n",
      "83\n",
      "89\n",
      "97\n"
     ]
    }
   ],
   "source": [
    "\"\"\"\n",
    "for i in range(1,101):\n",
    "    #素数判定\n",
    "    if i == 1:\n",
    "        continue\n",
    "    if i != 2:\n",
    "        if i % 2 == 0:\n",
    "            #print(f\"{i}は素数ではない\")\n",
    "            continue\n",
    "    if i != 3:\n",
    "        if i % 3 == 0:\n",
    "            #print(f\"{i}は素数ではない\")\n",
    "            continue\n",
    "    if i != 5:\n",
    "        if i % 5 == 0:\n",
    "            #print(f\"{i}は素数ではない\")\n",
    "            continue\n",
    "    if i != 7:\n",
    "        if i % 7 == 0:\n",
    "            #print(f\"{i}は素数ではない\")\n",
    "            continue\n",
    "\n",
    "    print(i)\n",
    "\"\"\"\n",
    "# アレコレ修正したVer.\n",
    "for i in range(1, 101):\n",
    "    if i == 1:\n",
    "        continue\n",
    "    for j in [2, 3, 5, 7]:\n",
    "        if i != j and i % j == 0:\n",
    "            #print(f\"{i}は素数ではない\")\n",
    "            break\n",
    "    else:\n",
    "        print(i)"
   ]
  },
  {
   "cell_type": "code",
   "execution_count": null,
   "id": "331bb659",
   "metadata": {},
   "outputs": [],
   "source": []
  }
 ],
 "metadata": {
  "kernelspec": {
   "display_name": ".venv",
   "language": "python",
   "name": "python3"
  },
  "language_info": {
   "codemirror_mode": {
    "name": "ipython",
    "version": 3
   },
   "file_extension": ".py",
   "mimetype": "text/x-python",
   "name": "python",
   "nbconvert_exporter": "python",
   "pygments_lexer": "ipython3",
   "version": "3.12.10"
  }
 },
 "nbformat": 4,
 "nbformat_minor": 5
}
