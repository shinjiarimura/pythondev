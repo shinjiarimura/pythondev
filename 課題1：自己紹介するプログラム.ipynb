{
 "cells": [
  {
   "cell_type": "code",
   "execution_count": 14,
   "id": "6093efce",
   "metadata": {},
   "outputs": [
    {
     "name": "stdout",
     "output_type": "stream",
     "text": [
      "名前を入力してください： shinji arimura\n",
      "現在の年齢を入力してください： 48\n",
      "私の名前は shinji arimura です。来年で 49 歳になります。\n"
     ]
    }
   ],
   "source": [
    "# 関数\n",
    "def cal_next_age(age):\n",
    "    age +=1\n",
    "    return age\n",
    "\n",
    "# 質問\n",
    "name = input(\"名前を入力してください：\")\n",
    "print(f\"名前を入力してください： {name}\")\n",
    "age = int(input(\"現在の年齢を入力してください：\"))\n",
    "print(f\"現在の年齢を入力してください： {age}\")\n",
    "\n",
    "# 実行\n",
    "next_age = cal_next_age(age)\n",
    "\n",
    "print(f\"私の名前は {name} です。来年で {next_age} 歳になります。\")"
   ]
  },
  {
   "cell_type": "code",
   "execution_count": null,
   "id": "e94e90c4",
   "metadata": {},
   "outputs": [],
   "source": []
  }
 ],
 "metadata": {
  "kernelspec": {
   "display_name": ".venv",
   "language": "python",
   "name": "python3"
  },
  "language_info": {
   "codemirror_mode": {
    "name": "ipython",
    "version": 3
   },
   "file_extension": ".py",
   "mimetype": "text/x-python",
   "name": "python",
   "nbconvert_exporter": "python",
   "pygments_lexer": "ipython3",
   "version": "3.12.10"
  }
 },
 "nbformat": 4,
 "nbformat_minor": 5
}
