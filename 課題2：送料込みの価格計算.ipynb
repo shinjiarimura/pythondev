{
 "cells": [
  {
   "cell_type": "code",
   "execution_count": 9,
   "id": "e98441cf",
   "metadata": {},
   "outputs": [
    {
     "name": "stdout",
     "output_type": "stream",
     "text": [
      "税抜価格を入力してください：1500\n",
      "送料として350円かかります\n",
      "送料込みの価格は2000円です。\n"
     ]
    }
   ],
   "source": [
    "# 金額入力\n",
    "price = int(input(\"税抜価格を入力してください：\"))\n",
    "print(f\"税抜価格を入力してください：{price}\")\n",
    "\n",
    "# 入力チェックありパターン\n",
    "# 仕様に記載が無いので除去\n",
    "\"\"\"\n",
    "import sys\n",
    "\n",
    "while True:\n",
    "    user_input = input(\"税抜価格を入力してください：\")\n",
    "    print(f\"税抜価格を入力してください：{user_input}\")\n",
    "    if user_input.isdigit():\n",
    "        price = int(user_input)\n",
    "        break\n",
    "    else:\n",
    "        print(\"エラー：半角数字の整数のみ入力してください。\")\n",
    "        sys.exit()\n",
    "\"\"\"\n",
    "\n",
    "\n",
    "# 税率設定\n",
    "tax_rate_percent = 10  # 10%\n",
    "\n",
    "# 税込価格計算\n",
    "def cal_tax_included_price(price):\n",
    "    return round(price * (1 + (tax_rate_percent / 100)))\n",
    "\n",
    "# 送料計算\n",
    "def shipping_fee(price):\n",
    "    total_price = cal_tax_included_price(price)\n",
    "    if total_price >= 2000:\n",
    "        print(\"送料は無料です\")\n",
    "    else:\n",
    "        print(\"送料として350円かかります\")\n",
    "        total_price = total_price + 350\n",
    "\n",
    "    print(f\"送料込みの価格は{total_price}円です。\")\n",
    "\n",
    "shipping_fee(price)"
   ]
  },
  {
   "cell_type": "code",
   "execution_count": null,
   "id": "3dd9b0a9",
   "metadata": {},
   "outputs": [],
   "source": []
  },
  {
   "cell_type": "code",
   "execution_count": null,
   "id": "1f98c941",
   "metadata": {},
   "outputs": [],
   "source": []
  }
 ],
 "metadata": {
  "kernelspec": {
   "display_name": ".venv",
   "language": "python",
   "name": "python3"
  },
  "language_info": {
   "codemirror_mode": {
    "name": "ipython",
    "version": 3
   },
   "file_extension": ".py",
   "mimetype": "text/x-python",
   "name": "python",
   "nbconvert_exporter": "python",
   "pygments_lexer": "ipython3",
   "version": "3.12.10"
  }
 },
 "nbformat": 4,
 "nbformat_minor": 5
}
