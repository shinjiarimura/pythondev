{
 "cells": [
  {
   "cell_type": "markdown",
   "id": "f24de65b",
   "metadata": {},
   "source": [
    "# レッスン0\n",
    "- VS Codeの基本的な書き方"
   ]
  },
  {
   "cell_type": "code",
   "execution_count": 1,
   "id": "f8c3dc00",
   "metadata": {},
   "outputs": [
    {
     "name": "stdout",
     "output_type": "stream",
     "text": [
      "Hello! World!\n"
     ]
    }
   ],
   "source": [
    "print(\"Hello! World!\")"
   ]
  }
 ],
 "metadata": {
  "kernelspec": {
   "display_name": ".venv",
   "language": "python",
   "name": "python3"
  },
  "language_info": {
   "codemirror_mode": {
    "name": "ipython",
    "version": 3
   },
   "file_extension": ".py",
   "mimetype": "text/x-python",
   "name": "python",
   "nbconvert_exporter": "python",
   "pygments_lexer": "ipython3",
   "version": "3.9.5"
  }
 },
 "nbformat": 4,
 "nbformat_minor": 5
}
