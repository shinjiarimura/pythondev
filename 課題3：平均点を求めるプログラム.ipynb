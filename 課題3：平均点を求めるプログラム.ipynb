{
 "cells": [
  {
   "cell_type": "code",
   "execution_count": 15,
   "id": "6bd3accd",
   "metadata": {},
   "outputs": [
    {
     "name": "stdout",
     "output_type": "stream",
     "text": [
      "点数を入力してください：65\n",
      "点数を入力してください：42\n",
      "点数を入力してください：87\n",
      "点数を入力してください：99\n",
      "点数を入力してください：48\n",
      "点数を入力してください：73\n",
      "点数を入力してください：100\n",
      "点数を入力してください：61\n",
      "点数を入力してください：89\n",
      "点数を入力してください：70\n",
      "点数を入力してください：-1\n",
      "10人のテストの平均点は73.4点です\n"
     ]
    }
   ],
   "source": [
    "\n",
    "total_score = 0\n",
    "num_people = 0\n",
    "\n",
    "while True:\n",
    "    score = input(\"点数を入力してください：\")\n",
    "    print(f\"点数を入力してください：{score}\")\n",
    "    if score == \"-1\":\n",
    "        #平均点計算\n",
    "        ave_score = round(total_score / num_people,1)\n",
    "        #print(\"ave_score\",ave_score)\n",
    "        print(f\"{num_people}人のテストの平均点は{ave_score:.1f}点です\")\n",
    "        break\n",
    "    else:\n",
    "        num_people += 1\n",
    "        #print(\"num_people: \",num_people)\n",
    "        total_score = total_score + int(score)\n",
    "        #print(\"total_score\",total_score)\n",
    "        continue\n",
    "    break"
   ]
  },
  {
   "cell_type": "code",
   "execution_count": null,
   "id": "49855ef0",
   "metadata": {},
   "outputs": [],
   "source": []
  }
 ],
 "metadata": {
  "kernelspec": {
   "display_name": ".venv",
   "language": "python",
   "name": "python3"
  },
  "language_info": {
   "codemirror_mode": {
    "name": "ipython",
    "version": 3
   },
   "file_extension": ".py",
   "mimetype": "text/x-python",
   "name": "python",
   "nbconvert_exporter": "python",
   "pygments_lexer": "ipython3",
   "version": "3.12.10"
  }
 },
 "nbformat": 4,
 "nbformat_minor": 5
}
